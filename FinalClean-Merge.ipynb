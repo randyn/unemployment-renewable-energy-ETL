{
 "cells": [
  {
   "cell_type": "code",
   "execution_count": 41,
   "metadata": {},
   "outputs": [],
   "source": [
    "import pandas as pd\n",
    "import numpy as np\n",
    "import datetime as dt"
   ]
  },
  {
   "cell_type": "code",
   "execution_count": 2,
   "metadata": {},
   "outputs": [
    {
     "data": {
      "text/html": [
       "<div>\n",
       "<style scoped>\n",
       "    .dataframe tbody tr th:only-of-type {\n",
       "        vertical-align: middle;\n",
       "    }\n",
       "\n",
       "    .dataframe tbody tr th {\n",
       "        vertical-align: top;\n",
       "    }\n",
       "\n",
       "    .dataframe thead th {\n",
       "        text-align: right;\n",
       "    }\n",
       "</style>\n",
       "<table border=\"1\" class=\"dataframe\">\n",
       "  <thead>\n",
       "    <tr style=\"text-align: right;\">\n",
       "      <th></th>\n",
       "      <th>Unnamed: 0</th>\n",
       "      <th>series_id</th>\n",
       "      <th>year</th>\n",
       "      <th>period</th>\n",
       "      <th>value</th>\n",
       "      <th>footnote_codes</th>\n",
       "      <th>region</th>\n",
       "    </tr>\n",
       "  </thead>\n",
       "  <tbody>\n",
       "    <tr>\n",
       "      <th>0</th>\n",
       "      <td>0</td>\n",
       "      <td>LASST050000000000003</td>\n",
       "      <td>1976</td>\n",
       "      <td>M01</td>\n",
       "      <td>7.4</td>\n",
       "      <td></td>\n",
       "      <td>Arkansas</td>\n",
       "    </tr>\n",
       "    <tr>\n",
       "      <th>1</th>\n",
       "      <td>1</td>\n",
       "      <td>LASST050000000000003</td>\n",
       "      <td>1976</td>\n",
       "      <td>M02</td>\n",
       "      <td>7.4</td>\n",
       "      <td></td>\n",
       "      <td>Arkansas</td>\n",
       "    </tr>\n",
       "    <tr>\n",
       "      <th>2</th>\n",
       "      <td>2</td>\n",
       "      <td>LASST050000000000003</td>\n",
       "      <td>1976</td>\n",
       "      <td>M03</td>\n",
       "      <td>7.4</td>\n",
       "      <td></td>\n",
       "      <td>Arkansas</td>\n",
       "    </tr>\n",
       "    <tr>\n",
       "      <th>3</th>\n",
       "      <td>3</td>\n",
       "      <td>LASST050000000000003</td>\n",
       "      <td>1976</td>\n",
       "      <td>M04</td>\n",
       "      <td>7.3</td>\n",
       "      <td></td>\n",
       "      <td>Arkansas</td>\n",
       "    </tr>\n",
       "    <tr>\n",
       "      <th>4</th>\n",
       "      <td>4</td>\n",
       "      <td>LASST050000000000003</td>\n",
       "      <td>1976</td>\n",
       "      <td>M05</td>\n",
       "      <td>7.2</td>\n",
       "      <td></td>\n",
       "      <td>Arkansas</td>\n",
       "    </tr>\n",
       "  </tbody>\n",
       "</table>\n",
       "</div>"
      ],
      "text/plain": [
       "   Unnamed: 0                       series_id  year period  value  \\\n",
       "0           0  LASST050000000000003            1976    M01    7.4   \n",
       "1           1  LASST050000000000003            1976    M02    7.4   \n",
       "2           2  LASST050000000000003            1976    M03    7.4   \n",
       "3           3  LASST050000000000003            1976    M04    7.3   \n",
       "4           4  LASST050000000000003            1976    M05    7.2   \n",
       "\n",
       "  footnote_codes    region  \n",
       "0                 Arkansas  \n",
       "1                 Arkansas  \n",
       "2                 Arkansas  \n",
       "3                 Arkansas  \n",
       "4                 Arkansas  "
      ]
     },
     "execution_count": 2,
     "metadata": {},
     "output_type": "execute_result"
    }
   ],
   "source": [
    "all_unemployment_regions_df = pd.read_csv('unemployment.csv')\n",
    "all_unemployment_regions_df.head()"
   ]
  },
  {
   "cell_type": "code",
   "execution_count": 6,
   "metadata": {},
   "outputs": [
    {
     "data": {
      "text/html": [
       "<div>\n",
       "<style scoped>\n",
       "    .dataframe tbody tr th:only-of-type {\n",
       "        vertical-align: middle;\n",
       "    }\n",
       "\n",
       "    .dataframe tbody tr th {\n",
       "        vertical-align: top;\n",
       "    }\n",
       "\n",
       "    .dataframe thead th {\n",
       "        text-align: right;\n",
       "    }\n",
       "</style>\n",
       "<table border=\"1\" class=\"dataframe\">\n",
       "  <thead>\n",
       "    <tr style=\"text-align: right;\">\n",
       "      <th></th>\n",
       "      <th>Unnamed: 0</th>\n",
       "      <th>date</th>\n",
       "      <th>energy_production</th>\n",
       "      <th>fuel_type</th>\n",
       "      <th>region</th>\n",
       "    </tr>\n",
       "  </thead>\n",
       "  <tbody>\n",
       "    <tr>\n",
       "      <th>0</th>\n",
       "      <td>0</td>\n",
       "      <td>201812</td>\n",
       "      <td>64.28964</td>\n",
       "      <td>Coal</td>\n",
       "      <td>Alaska</td>\n",
       "    </tr>\n",
       "    <tr>\n",
       "      <th>1</th>\n",
       "      <td>1</td>\n",
       "      <td>201811</td>\n",
       "      <td>82.86349</td>\n",
       "      <td>Coal</td>\n",
       "      <td>Alaska</td>\n",
       "    </tr>\n",
       "    <tr>\n",
       "      <th>2</th>\n",
       "      <td>2</td>\n",
       "      <td>201810</td>\n",
       "      <td>NaN</td>\n",
       "      <td>Coal</td>\n",
       "      <td>Alaska</td>\n",
       "    </tr>\n",
       "    <tr>\n",
       "      <th>3</th>\n",
       "      <td>3</td>\n",
       "      <td>201809</td>\n",
       "      <td>78.22302</td>\n",
       "      <td>Coal</td>\n",
       "      <td>Alaska</td>\n",
       "    </tr>\n",
       "    <tr>\n",
       "      <th>4</th>\n",
       "      <td>4</td>\n",
       "      <td>201808</td>\n",
       "      <td>65.52859</td>\n",
       "      <td>Coal</td>\n",
       "      <td>Alaska</td>\n",
       "    </tr>\n",
       "  </tbody>\n",
       "</table>\n",
       "</div>"
      ],
      "text/plain": [
       "   Unnamed: 0    date  energy_production fuel_type  region\n",
       "0           0  201812           64.28964      Coal  Alaska\n",
       "1           1  201811           82.86349      Coal  Alaska\n",
       "2           2  201810                NaN      Coal  Alaska\n",
       "3           3  201809           78.22302      Coal  Alaska\n",
       "4           4  201808           65.52859      Coal  Alaska"
      ]
     },
     "execution_count": 6,
     "metadata": {},
     "output_type": "execute_result"
    }
   ],
   "source": [
    "all_fuels_region_production = pd.read_csv('fuel_region_production.csv')\n",
    "all_fuels_region_production.head()"
   ]
  },
  {
   "cell_type": "code",
   "execution_count": 14,
   "metadata": {},
   "outputs": [],
   "source": [
    "region_counts = all_unemployment_regions_df['region'].value_counts()"
   ]
  },
  {
   "cell_type": "code",
   "execution_count": 16,
   "metadata": {},
   "outputs": [],
   "source": [
    "unemployment_regions = [ unemployment_region for unemployment_region in region_counts.index]"
   ]
  },
  {
   "cell_type": "code",
   "execution_count": 25,
   "metadata": {},
   "outputs": [
    {
     "data": {
      "text/plain": [
       "['UnitedStates',\n",
       " 'California',\n",
       " 'PacificContiguous(total)',\n",
       " 'Mountain(total)',\n",
       " 'SouthAtlantic(total)',\n",
       " 'MiddleAtlantic(total)',\n",
       " 'Pennsylvania',\n",
       " 'EastNorthCentral(total)',\n",
       " 'WestSouthCentral(total)',\n",
       " 'WestNorthCentral(total)',\n",
       " 'EastSouthCentral(total)',\n",
       " 'Michigan',\n",
       " 'Texas',\n",
       " 'Washington',\n",
       " 'NewYork',\n",
       " 'NewEngland(total)',\n",
       " 'Tennessee',\n",
       " 'Ohio',\n",
       " 'Illinois',\n",
       " 'Florida',\n",
       " 'NewJersey',\n",
       " 'Arizona',\n",
       " 'Missouri',\n",
       " 'PacificNoncontiguous(total)',\n",
       " 'Massachusetts',\n",
       " 'SouthCarolina',\n",
       " 'NorthCarolina',\n",
       " 'Minnesota',\n",
       " 'Georgia',\n",
       " 'Colorado',\n",
       " 'Wisconsin',\n",
       " 'Oklahoma',\n",
       " 'Connecticut',\n",
       " 'Arkansas',\n",
       " 'Louisiana',\n",
       " 'Maryland',\n",
       " 'Virginia',\n",
       " 'Iowa',\n",
       " 'Hawaii',\n",
       " 'Indiana',\n",
       " 'Nevada',\n",
       " 'Utah',\n",
       " 'Oregon',\n",
       " 'Alabama',\n",
       " 'NewHampshire',\n",
       " 'Kentucky',\n",
       " 'WestVirginia',\n",
       " 'Montana',\n",
       " 'Nebraska',\n",
       " 'Maine',\n",
       " 'Idaho',\n",
       " 'Kansas',\n",
       " 'Mississippi',\n",
       " 'NorthDakota',\n",
       " 'NewMexico',\n",
       " 'Vermont',\n",
       " 'Alaska',\n",
       " 'Delaware',\n",
       " 'Wyoming',\n",
       " 'SouthDakota',\n",
       " 'RhodeIsland',\n",
       " 'DistrictOfColumbia']"
      ]
     },
     "execution_count": 25,
     "metadata": {},
     "output_type": "execute_result"
    }
   ],
   "source": [
    "fuel_regions = all_fuels_region_production['region'].value_counts().index\n",
    "fuel_regions = [ fuel_region.replace(' ', '') for fuel_region in fuel_regions]\n",
    "fuel_regions"
   ]
  },
  {
   "cell_type": "code",
   "execution_count": 26,
   "metadata": {},
   "outputs": [],
   "source": [
    "joined_regions = [ unemployment_region for unemployment_region in unemployment_regions \\\n",
    "                  if unemployment_region in fuel_regions]\n"
   ]
  },
  {
   "cell_type": "code",
   "execution_count": 27,
   "metadata": {},
   "outputs": [
    {
     "data": {
      "text/plain": [
       "['PuertoRico', 'DC']"
      ]
     },
     "execution_count": 27,
     "metadata": {},
     "output_type": "execute_result"
    }
   ],
   "source": [
    "[ region for region in region_counts.index if region not in joined_regions]"
   ]
  },
  {
   "cell_type": "code",
   "execution_count": 28,
   "metadata": {},
   "outputs": [
    {
     "data": {
      "text/plain": [
       "Index(['United States', 'California', 'Pacific Contiguous (total)',\n",
       "       'Mountain (total)', 'South Atlantic (total)', 'Middle Atlantic (total)',\n",
       "       'Pennsylvania', 'East North Central (total)',\n",
       "       'West South Central (total)', 'West North Central (total)',\n",
       "       'East South Central (total)', 'Michigan', 'Texas', 'Washington',\n",
       "       'New York', 'New England (total)', 'Tennessee', 'Ohio', 'Illinois',\n",
       "       'Florida', 'New Jersey', 'Arizona', 'Missouri',\n",
       "       'Pacific Noncontiguous (total)', 'Massachusetts', 'South Carolina',\n",
       "       'North Carolina', 'Minnesota', 'Georgia', 'Colorado', 'Wisconsin',\n",
       "       'Oklahoma', 'Connecticut', 'Arkansas', 'Louisiana', 'Maryland',\n",
       "       'Virginia', 'Iowa', 'Hawaii', 'Indiana', 'Nevada', 'Utah', 'Oregon',\n",
       "       'Alabama', 'New Hampshire', 'Kentucky', 'West Virginia', 'Montana',\n",
       "       'Nebraska', 'Maine', 'Idaho', 'Kansas', 'Mississippi', 'North Dakota',\n",
       "       'New Mexico', 'Vermont', 'Alaska', 'Delaware', 'Wyoming',\n",
       "       'South Dakota', 'Rhode Island', 'District Of Columbia'],\n",
       "      dtype='object')"
      ]
     },
     "execution_count": 28,
     "metadata": {},
     "output_type": "execute_result"
    }
   ],
   "source": [
    "all_fuels_region_production['region'].value_counts().index"
   ]
  },
  {
   "cell_type": "code",
   "execution_count": 35,
   "metadata": {},
   "outputs": [
    {
     "data": {
      "text/plain": [
       "California                     3960\n",
       "UnitedStates                   3960\n",
       "PacificContiguous(total)       3960\n",
       "Mountain(total)                3924\n",
       "SouthAtlantic(total)           3505\n",
       "MiddleAtlantic(total)          3432\n",
       "Pennsylvania                   3422\n",
       "EastNorthCentral(total)        3396\n",
       "WestSouthCentral(total)        3385\n",
       "WestNorthCentral(total)        3312\n",
       "EastSouthCentral(total)        3300\n",
       "Michigan                       3223\n",
       "Washington                     3169\n",
       "Texas                          3169\n",
       "NewYork                        3168\n",
       "NewEngland(total)              3120\n",
       "Tennessee                      3096\n",
       "Ohio                           3087\n",
       "Illinois                       3032\n",
       "Florida                        3030\n",
       "NewJersey                      3012\n",
       "Arizona                        3002\n",
       "Missouri                       2979\n",
       "PacificNoncontiguous(total)    2941\n",
       "Massachusetts                  2940\n",
       "SouthCarolina                  2922\n",
       "NorthCarolina                  2905\n",
       "Minnesota                      2884\n",
       "Georgia                        2880\n",
       "Colorado                       2844\n",
       "                               ... \n",
       "Connecticut                    2740\n",
       "Arkansas                       2737\n",
       "Louisiana                      2712\n",
       "Maryland                       2709\n",
       "Virginia                       2636\n",
       "Iowa                           2604\n",
       "Hawaii                         2602\n",
       "Indiana                        2576\n",
       "Nevada                         2572\n",
       "Utah                           2560\n",
       "Oregon                         2558\n",
       "Alabama                        2552\n",
       "NewHampshire                   2412\n",
       "Kentucky                       2379\n",
       "WestVirginia                   2376\n",
       "Montana                        2358\n",
       "Nebraska                       2330\n",
       "Maine                          2325\n",
       "Idaho                          2314\n",
       "Kansas                         2247\n",
       "Mississippi                    2213\n",
       "NorthDakota                    2182\n",
       "NewMexico                      2163\n",
       "Vermont                        2124\n",
       "Alaska                         2099\n",
       "Delaware                       2068\n",
       "Wyoming                        2030\n",
       "SouthDakota                    1980\n",
       "RhodeIsland                    1672\n",
       "DC                              734\n",
       "Name: region, Length: 62, dtype: int64"
      ]
     },
     "execution_count": 35,
     "metadata": {},
     "output_type": "execute_result"
    }
   ],
   "source": [
    "# All states represented, need to remove spaces for the fuel regions to match format \n",
    "# and replace `District of Columbia` with DC\n",
    "\n",
    "all_fuels_region_production['region'] = all_fuels_region_production['region'].apply(lambda region: region.replace(' ', ''))\n",
    "all_fuels_region_production['region'].replace('DistrictOfColumbia', 'DC', inplace=True)\n",
    "all_fuels_region_production['region'].value_counts()\n"
   ]
  },
  {
   "cell_type": "code",
   "execution_count": 51,
   "metadata": {},
   "outputs": [
    {
     "name": "stdout",
     "output_type": "stream",
     "text": [
      "201808\n"
     ]
    }
   ],
   "source": [
    "date_string = str(all_fuels_region_production.iloc[4]['date'])\n",
    "print(date_string)\n",
    "current_date = dt.datetime.strptime(date_string, '%Y%m')\n",
    "# current_month = f\"M{current_date}\"\""
   ]
  },
  {
   "cell_type": "code",
   "execution_count": 60,
   "metadata": {},
   "outputs": [
    {
     "data": {
      "text/plain": [
       "'08'"
      ]
     },
     "execution_count": 60,
     "metadata": {},
     "output_type": "execute_result"
    }
   ],
   "source": [
    "current_date.strftime('%m')"
   ]
  },
  {
   "cell_type": "code",
   "execution_count": null,
   "metadata": {},
   "outputs": [],
   "source": []
  }
 ],
 "metadata": {
  "kernelspec": {
   "display_name": "Python (PythonData)",
   "language": "python",
   "name": "pythondata"
  },
  "language_info": {
   "codemirror_mode": {
    "name": "ipython",
    "version": 3
   },
   "file_extension": ".py",
   "mimetype": "text/x-python",
   "name": "python",
   "nbconvert_exporter": "python",
   "pygments_lexer": "ipython3",
   "version": "3.6.8"
  }
 },
 "nbformat": 4,
 "nbformat_minor": 2
}
