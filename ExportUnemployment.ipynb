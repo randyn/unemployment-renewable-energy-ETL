{
 "cells": [
  {
   "cell_type": "code",
   "execution_count": 2,
   "metadata": {},
   "outputs": [],
   "source": [
    "import pandas as pd\n",
    "import requests\n",
    "from pprint import pprint\n",
    "import numpy as np\n",
    "import time\n",
    "from bs4 import BeautifulSoup"
   ]
  },
  {
   "cell_type": "code",
   "execution_count": 29,
   "metadata": {},
   "outputs": [],
   "source": [
    "base_url = 'https://download.bls.gov'"
   ]
  },
  {
   "cell_type": "code",
   "execution_count": 28,
   "metadata": {},
   "outputs": [],
   "source": [
    "base_directory = base_url + '/pub/time.series/la/'"
   ]
  },
  {
   "cell_type": "code",
   "execution_count": 4,
   "metadata": {},
   "outputs": [],
   "source": [
    "response = requests.get(base_directory)"
   ]
  },
  {
   "cell_type": "code",
   "execution_count": 6,
   "metadata": {},
   "outputs": [],
   "source": [
    "soup = BeautifulSoup(response.text, 'lxml')"
   ]
  },
  {
   "cell_type": "code",
   "execution_count": 13,
   "metadata": {},
   "outputs": [
    {
     "data": {
      "text/plain": [
       "{'[To Parent Directory]': <a href=\"/pub/time.series/\">[To Parent Directory]</a>,\n",
       " 'la.area': <a href=\"/pub/time.series/la/la.area\">la.area</a>,\n",
       " 'la.area_type': <a href=\"/pub/time.series/la/la.area_type\">la.area_type</a>,\n",
       " 'la.areamaps': <a href=\"/pub/time.series/la/la.areamaps\">la.areamaps</a>,\n",
       " 'la.contacts': <a href=\"/pub/time.series/la/la.contacts\">la.contacts</a>,\n",
       " 'la.data.0.CurrentU00-04': <a href=\"/pub/time.series/la/la.data.0.CurrentU00-04\">la.data.0.CurrentU00-04</a>,\n",
       " 'la.data.0.CurrentU05-09': <a href=\"/pub/time.series/la/la.data.0.CurrentU05-09\">la.data.0.CurrentU05-09</a>,\n",
       " 'la.data.0.CurrentU10-14': <a href=\"/pub/time.series/la/la.data.0.CurrentU10-14\">la.data.0.CurrentU10-14</a>,\n",
       " 'la.data.0.CurrentU15-19': <a href=\"/pub/time.series/la/la.data.0.CurrentU15-19\">la.data.0.CurrentU15-19</a>,\n",
       " 'la.data.0.CurrentU90-94': <a href=\"/pub/time.series/la/la.data.0.CurrentU90-94\">la.data.0.CurrentU90-94</a>,\n",
       " 'la.data.0.CurrentU95-99': <a href=\"/pub/time.series/la/la.data.0.CurrentU95-99\">la.data.0.CurrentU95-99</a>,\n",
       " 'la.data.1.CurrentS': <a href=\"/pub/time.series/la/la.data.1.CurrentS\">la.data.1.CurrentS</a>,\n",
       " 'la.data.10.Arkansas': <a href=\"/pub/time.series/la/la.data.10.Arkansas\">la.data.10.Arkansas</a>,\n",
       " 'la.data.11.California': <a href=\"/pub/time.series/la/la.data.11.California\">la.data.11.California</a>,\n",
       " 'la.data.12.Colorado': <a href=\"/pub/time.series/la/la.data.12.Colorado\">la.data.12.Colorado</a>,\n",
       " 'la.data.13.Connecticut': <a href=\"/pub/time.series/la/la.data.13.Connecticut\">la.data.13.Connecticut</a>,\n",
       " 'la.data.14.Delaware': <a href=\"/pub/time.series/la/la.data.14.Delaware\">la.data.14.Delaware</a>,\n",
       " 'la.data.15.DC': <a href=\"/pub/time.series/la/la.data.15.DC\">la.data.15.DC</a>,\n",
       " 'la.data.16.Florida': <a href=\"/pub/time.series/la/la.data.16.Florida\">la.data.16.Florida</a>,\n",
       " 'la.data.17.Georgia': <a href=\"/pub/time.series/la/la.data.17.Georgia\">la.data.17.Georgia</a>,\n",
       " 'la.data.18.Hawaii': <a href=\"/pub/time.series/la/la.data.18.Hawaii\">la.data.18.Hawaii</a>,\n",
       " 'la.data.19.Idaho': <a href=\"/pub/time.series/la/la.data.19.Idaho\">la.data.19.Idaho</a>,\n",
       " 'la.data.2.AllStatesU': <a href=\"/pub/time.series/la/la.data.2.AllStatesU\">la.data.2.AllStatesU</a>,\n",
       " 'la.data.20.Illinois': <a href=\"/pub/time.series/la/la.data.20.Illinois\">la.data.20.Illinois</a>,\n",
       " 'la.data.21.Indiana': <a href=\"/pub/time.series/la/la.data.21.Indiana\">la.data.21.Indiana</a>,\n",
       " 'la.data.22.Iowa': <a href=\"/pub/time.series/la/la.data.22.Iowa\">la.data.22.Iowa</a>,\n",
       " 'la.data.23.Kansas': <a href=\"/pub/time.series/la/la.data.23.Kansas\">la.data.23.Kansas</a>,\n",
       " 'la.data.24.Kentucky': <a href=\"/pub/time.series/la/la.data.24.Kentucky\">la.data.24.Kentucky</a>,\n",
       " 'la.data.25.Louisiana': <a href=\"/pub/time.series/la/la.data.25.Louisiana\">la.data.25.Louisiana</a>,\n",
       " 'la.data.26.Maine': <a href=\"/pub/time.series/la/la.data.26.Maine\">la.data.26.Maine</a>,\n",
       " 'la.data.27.Maryland': <a href=\"/pub/time.series/la/la.data.27.Maryland\">la.data.27.Maryland</a>,\n",
       " 'la.data.28.Massachusetts': <a href=\"/pub/time.series/la/la.data.28.Massachusetts\">la.data.28.Massachusetts</a>,\n",
       " 'la.data.29.Michigan': <a href=\"/pub/time.series/la/la.data.29.Michigan\">la.data.29.Michigan</a>,\n",
       " 'la.data.3.AllStatesS': <a href=\"/pub/time.series/la/la.data.3.AllStatesS\">la.data.3.AllStatesS</a>,\n",
       " 'la.data.30.Minnesota': <a href=\"/pub/time.series/la/la.data.30.Minnesota\">la.data.30.Minnesota</a>,\n",
       " 'la.data.31.Mississippi': <a href=\"/pub/time.series/la/la.data.31.Mississippi\">la.data.31.Mississippi</a>,\n",
       " 'la.data.32.Missouri': <a href=\"/pub/time.series/la/la.data.32.Missouri\">la.data.32.Missouri</a>,\n",
       " 'la.data.33.Montana': <a href=\"/pub/time.series/la/la.data.33.Montana\">la.data.33.Montana</a>,\n",
       " 'la.data.34.Nebraska': <a href=\"/pub/time.series/la/la.data.34.Nebraska\">la.data.34.Nebraska</a>,\n",
       " 'la.data.35.Nevada': <a href=\"/pub/time.series/la/la.data.35.Nevada\">la.data.35.Nevada</a>,\n",
       " 'la.data.36.NewHampshire': <a href=\"/pub/time.series/la/la.data.36.NewHampshire\">la.data.36.NewHampshire</a>,\n",
       " 'la.data.37.NewJersey': <a href=\"/pub/time.series/la/la.data.37.NewJersey\">la.data.37.NewJersey</a>,\n",
       " 'la.data.38.NewMexico': <a href=\"/pub/time.series/la/la.data.38.NewMexico\">la.data.38.NewMexico</a>,\n",
       " 'la.data.39.NewYork': <a href=\"/pub/time.series/la/la.data.39.NewYork\">la.data.39.NewYork</a>,\n",
       " 'la.data.4.RegionDivisionU': <a href=\"/pub/time.series/la/la.data.4.RegionDivisionU\">la.data.4.RegionDivisionU</a>,\n",
       " 'la.data.40.NorthCarolina': <a href=\"/pub/time.series/la/la.data.40.NorthCarolina\">la.data.40.NorthCarolina</a>,\n",
       " 'la.data.41.NorthDakota': <a href=\"/pub/time.series/la/la.data.41.NorthDakota\">la.data.41.NorthDakota</a>,\n",
       " 'la.data.42.Ohio': <a href=\"/pub/time.series/la/la.data.42.Ohio\">la.data.42.Ohio</a>,\n",
       " 'la.data.43.Oklahoma': <a href=\"/pub/time.series/la/la.data.43.Oklahoma\">la.data.43.Oklahoma</a>,\n",
       " 'la.data.44.Oregon': <a href=\"/pub/time.series/la/la.data.44.Oregon\">la.data.44.Oregon</a>,\n",
       " 'la.data.45.Pennsylvania': <a href=\"/pub/time.series/la/la.data.45.Pennsylvania\">la.data.45.Pennsylvania</a>,\n",
       " 'la.data.46.PuertoRico': <a href=\"/pub/time.series/la/la.data.46.PuertoRico\">la.data.46.PuertoRico</a>,\n",
       " 'la.data.47.RhodeIsland': <a href=\"/pub/time.series/la/la.data.47.RhodeIsland\">la.data.47.RhodeIsland</a>,\n",
       " 'la.data.48.SouthCarolina': <a href=\"/pub/time.series/la/la.data.48.SouthCarolina\">la.data.48.SouthCarolina</a>,\n",
       " 'la.data.49.SouthDakota': <a href=\"/pub/time.series/la/la.data.49.SouthDakota\">la.data.49.SouthDakota</a>,\n",
       " 'la.data.5.RegionDivisionS': <a href=\"/pub/time.series/la/la.data.5.RegionDivisionS\">la.data.5.RegionDivisionS</a>,\n",
       " 'la.data.50.Tennessee': <a href=\"/pub/time.series/la/la.data.50.Tennessee\">la.data.50.Tennessee</a>,\n",
       " 'la.data.51.Texas': <a href=\"/pub/time.series/la/la.data.51.Texas\">la.data.51.Texas</a>,\n",
       " 'la.data.52.Utah': <a href=\"/pub/time.series/la/la.data.52.Utah\">la.data.52.Utah</a>,\n",
       " 'la.data.53.Vermont': <a href=\"/pub/time.series/la/la.data.53.Vermont\">la.data.53.Vermont</a>,\n",
       " 'la.data.54.Virginia': <a href=\"/pub/time.series/la/la.data.54.Virginia\">la.data.54.Virginia</a>,\n",
       " 'la.data.56.Washington': <a href=\"/pub/time.series/la/la.data.56.Washington\">la.data.56.Washington</a>,\n",
       " 'la.data.57.WestVirginia': <a href=\"/pub/time.series/la/la.data.57.WestVirginia\">la.data.57.WestVirginia</a>,\n",
       " 'la.data.58.Wisconsin': <a href=\"/pub/time.series/la/la.data.58.Wisconsin\">la.data.58.Wisconsin</a>,\n",
       " 'la.data.59.Wyoming': <a href=\"/pub/time.series/la/la.data.59.Wyoming\">la.data.59.Wyoming</a>,\n",
       " 'la.data.60.Metro': <a href=\"/pub/time.series/la/la.data.60.Metro\">la.data.60.Metro</a>,\n",
       " 'la.data.61.Division': <a href=\"/pub/time.series/la/la.data.61.Division\">la.data.61.Division</a>,\n",
       " 'la.data.62.Micro': <a href=\"/pub/time.series/la/la.data.62.Micro\">la.data.62.Micro</a>,\n",
       " 'la.data.63.Combined': <a href=\"/pub/time.series/la/la.data.63.Combined\">la.data.63.Combined</a>,\n",
       " 'la.data.64.County': <a href=\"/pub/time.series/la/la.data.64.County\">la.data.64.County</a>,\n",
       " 'la.data.65.City': <a href=\"/pub/time.series/la/la.data.65.City\">la.data.65.City</a>,\n",
       " 'la.data.7.Alabama': <a href=\"/pub/time.series/la/la.data.7.Alabama\">la.data.7.Alabama</a>,\n",
       " 'la.data.8.Alaska': <a href=\"/pub/time.series/la/la.data.8.Alaska\">la.data.8.Alaska</a>,\n",
       " 'la.data.9.Arizona': <a href=\"/pub/time.series/la/la.data.9.Arizona\">la.data.9.Arizona</a>,\n",
       " 'la.footnote': <a href=\"/pub/time.series/la/la.footnote\">la.footnote</a>,\n",
       " 'la.map_info': <a href=\"/pub/time.series/la/la.map_info\">la.map_info</a>,\n",
       " 'la.measure': <a href=\"/pub/time.series/la/la.measure\">la.measure</a>,\n",
       " 'la.period': <a href=\"/pub/time.series/la/la.period\">la.period</a>,\n",
       " 'la.seasonal': <a href=\"/pub/time.series/la/la.seasonal\">la.seasonal</a>,\n",
       " 'la.series': <a href=\"/pub/time.series/la/la.series\">la.series</a>,\n",
       " 'la.state_region_division': <a href=\"/pub/time.series/la/la.state_region_division\">la.state_region_division</a>,\n",
       " 'la.txt': <a href=\"/pub/time.series/la/la.txt\">la.txt</a>,\n",
       " 'maps': <a href=\"/pub/time.series/la/maps/\">maps</a>}"
      ]
     },
     "execution_count": 13,
     "metadata": {},
     "output_type": "execute_result"
    }
   ],
   "source": [
    "link_dict = {link.text: link for link in soup.findAll('a')}\n",
    "link_dict"
   ]
  },
  {
   "cell_type": "code",
   "execution_count": 17,
   "metadata": {},
   "outputs": [
    {
     "data": {
      "text/plain": [
       "['la.data.10.Arkansas',\n",
       " 'la.data.11.California',\n",
       " 'la.data.12.Colorado',\n",
       " 'la.data.13.Connecticut',\n",
       " 'la.data.14.Delaware']"
      ]
     },
     "execution_count": 17,
     "metadata": {},
     "output_type": "execute_result"
    }
   ],
   "source": [
    "# 7 to 59 are regions we want\n",
    "region_link_names = [ region_link_name for region_link_name in link_dict.keys() \\\n",
    "                     if len(region_link_name.split('.')) > 3 and \\\n",
    "                     int(region_link_name.split('.')[2]) >= 7 and \\\n",
    "                     int(region_link_name.split('.')[2]) <= 59\\\n",
    "                    ]\n",
    "region_link_names[:5]"
   ]
  },
  {
   "cell_type": "code",
   "execution_count": 57,
   "metadata": {},
   "outputs": [
    {
     "data": {
      "text/plain": [
       "{'[To Parent Directory]': 'https://download.bls.gov/pub/time.series/',\n",
       " 'la.area': 'https://download.bls.gov/pub/time.series/la/la.area',\n",
       " 'la.area_type': 'https://download.bls.gov/pub/time.series/la/la.area_type',\n",
       " 'la.areamaps': 'https://download.bls.gov/pub/time.series/la/la.areamaps',\n",
       " 'la.contacts': 'https://download.bls.gov/pub/time.series/la/la.contacts',\n",
       " 'la.data.0.CurrentU00-04': 'https://download.bls.gov/pub/time.series/la/la.data.0.CurrentU00-04',\n",
       " 'la.data.0.CurrentU05-09': 'https://download.bls.gov/pub/time.series/la/la.data.0.CurrentU05-09',\n",
       " 'la.data.0.CurrentU10-14': 'https://download.bls.gov/pub/time.series/la/la.data.0.CurrentU10-14',\n",
       " 'la.data.0.CurrentU15-19': 'https://download.bls.gov/pub/time.series/la/la.data.0.CurrentU15-19',\n",
       " 'la.data.0.CurrentU90-94': 'https://download.bls.gov/pub/time.series/la/la.data.0.CurrentU90-94',\n",
       " 'la.data.0.CurrentU95-99': 'https://download.bls.gov/pub/time.series/la/la.data.0.CurrentU95-99',\n",
       " 'la.data.1.CurrentS': 'https://download.bls.gov/pub/time.series/la/la.data.1.CurrentS',\n",
       " 'la.data.10.Arkansas': 'https://download.bls.gov/pub/time.series/la/la.data.10.Arkansas',\n",
       " 'la.data.11.California': 'https://download.bls.gov/pub/time.series/la/la.data.11.California',\n",
       " 'la.data.12.Colorado': 'https://download.bls.gov/pub/time.series/la/la.data.12.Colorado',\n",
       " 'la.data.13.Connecticut': 'https://download.bls.gov/pub/time.series/la/la.data.13.Connecticut',\n",
       " 'la.data.14.Delaware': 'https://download.bls.gov/pub/time.series/la/la.data.14.Delaware',\n",
       " 'la.data.15.DC': 'https://download.bls.gov/pub/time.series/la/la.data.15.DC',\n",
       " 'la.data.16.Florida': 'https://download.bls.gov/pub/time.series/la/la.data.16.Florida',\n",
       " 'la.data.17.Georgia': 'https://download.bls.gov/pub/time.series/la/la.data.17.Georgia',\n",
       " 'la.data.18.Hawaii': 'https://download.bls.gov/pub/time.series/la/la.data.18.Hawaii',\n",
       " 'la.data.19.Idaho': 'https://download.bls.gov/pub/time.series/la/la.data.19.Idaho',\n",
       " 'la.data.2.AllStatesU': 'https://download.bls.gov/pub/time.series/la/la.data.2.AllStatesU',\n",
       " 'la.data.20.Illinois': 'https://download.bls.gov/pub/time.series/la/la.data.20.Illinois',\n",
       " 'la.data.21.Indiana': 'https://download.bls.gov/pub/time.series/la/la.data.21.Indiana',\n",
       " 'la.data.22.Iowa': 'https://download.bls.gov/pub/time.series/la/la.data.22.Iowa',\n",
       " 'la.data.23.Kansas': 'https://download.bls.gov/pub/time.series/la/la.data.23.Kansas',\n",
       " 'la.data.24.Kentucky': 'https://download.bls.gov/pub/time.series/la/la.data.24.Kentucky',\n",
       " 'la.data.25.Louisiana': 'https://download.bls.gov/pub/time.series/la/la.data.25.Louisiana',\n",
       " 'la.data.26.Maine': 'https://download.bls.gov/pub/time.series/la/la.data.26.Maine',\n",
       " 'la.data.27.Maryland': 'https://download.bls.gov/pub/time.series/la/la.data.27.Maryland',\n",
       " 'la.data.28.Massachusetts': 'https://download.bls.gov/pub/time.series/la/la.data.28.Massachusetts',\n",
       " 'la.data.29.Michigan': 'https://download.bls.gov/pub/time.series/la/la.data.29.Michigan',\n",
       " 'la.data.3.AllStatesS': 'https://download.bls.gov/pub/time.series/la/la.data.3.AllStatesS',\n",
       " 'la.data.30.Minnesota': 'https://download.bls.gov/pub/time.series/la/la.data.30.Minnesota',\n",
       " 'la.data.31.Mississippi': 'https://download.bls.gov/pub/time.series/la/la.data.31.Mississippi',\n",
       " 'la.data.32.Missouri': 'https://download.bls.gov/pub/time.series/la/la.data.32.Missouri',\n",
       " 'la.data.33.Montana': 'https://download.bls.gov/pub/time.series/la/la.data.33.Montana',\n",
       " 'la.data.34.Nebraska': 'https://download.bls.gov/pub/time.series/la/la.data.34.Nebraska',\n",
       " 'la.data.35.Nevada': 'https://download.bls.gov/pub/time.series/la/la.data.35.Nevada',\n",
       " 'la.data.36.NewHampshire': 'https://download.bls.gov/pub/time.series/la/la.data.36.NewHampshire',\n",
       " 'la.data.37.NewJersey': 'https://download.bls.gov/pub/time.series/la/la.data.37.NewJersey',\n",
       " 'la.data.38.NewMexico': 'https://download.bls.gov/pub/time.series/la/la.data.38.NewMexico',\n",
       " 'la.data.39.NewYork': 'https://download.bls.gov/pub/time.series/la/la.data.39.NewYork',\n",
       " 'la.data.4.RegionDivisionU': 'https://download.bls.gov/pub/time.series/la/la.data.4.RegionDivisionU',\n",
       " 'la.data.40.NorthCarolina': 'https://download.bls.gov/pub/time.series/la/la.data.40.NorthCarolina',\n",
       " 'la.data.41.NorthDakota': 'https://download.bls.gov/pub/time.series/la/la.data.41.NorthDakota',\n",
       " 'la.data.42.Ohio': 'https://download.bls.gov/pub/time.series/la/la.data.42.Ohio',\n",
       " 'la.data.43.Oklahoma': 'https://download.bls.gov/pub/time.series/la/la.data.43.Oklahoma',\n",
       " 'la.data.44.Oregon': 'https://download.bls.gov/pub/time.series/la/la.data.44.Oregon',\n",
       " 'la.data.45.Pennsylvania': 'https://download.bls.gov/pub/time.series/la/la.data.45.Pennsylvania',\n",
       " 'la.data.46.PuertoRico': 'https://download.bls.gov/pub/time.series/la/la.data.46.PuertoRico',\n",
       " 'la.data.47.RhodeIsland': 'https://download.bls.gov/pub/time.series/la/la.data.47.RhodeIsland',\n",
       " 'la.data.48.SouthCarolina': 'https://download.bls.gov/pub/time.series/la/la.data.48.SouthCarolina',\n",
       " 'la.data.49.SouthDakota': 'https://download.bls.gov/pub/time.series/la/la.data.49.SouthDakota',\n",
       " 'la.data.5.RegionDivisionS': 'https://download.bls.gov/pub/time.series/la/la.data.5.RegionDivisionS',\n",
       " 'la.data.50.Tennessee': 'https://download.bls.gov/pub/time.series/la/la.data.50.Tennessee',\n",
       " 'la.data.51.Texas': 'https://download.bls.gov/pub/time.series/la/la.data.51.Texas',\n",
       " 'la.data.52.Utah': 'https://download.bls.gov/pub/time.series/la/la.data.52.Utah',\n",
       " 'la.data.53.Vermont': 'https://download.bls.gov/pub/time.series/la/la.data.53.Vermont',\n",
       " 'la.data.54.Virginia': 'https://download.bls.gov/pub/time.series/la/la.data.54.Virginia',\n",
       " 'la.data.56.Washington': 'https://download.bls.gov/pub/time.series/la/la.data.56.Washington',\n",
       " 'la.data.57.WestVirginia': 'https://download.bls.gov/pub/time.series/la/la.data.57.WestVirginia',\n",
       " 'la.data.58.Wisconsin': 'https://download.bls.gov/pub/time.series/la/la.data.58.Wisconsin',\n",
       " 'la.data.59.Wyoming': 'https://download.bls.gov/pub/time.series/la/la.data.59.Wyoming',\n",
       " 'la.data.60.Metro': 'https://download.bls.gov/pub/time.series/la/la.data.60.Metro',\n",
       " 'la.data.61.Division': 'https://download.bls.gov/pub/time.series/la/la.data.61.Division',\n",
       " 'la.data.62.Micro': 'https://download.bls.gov/pub/time.series/la/la.data.62.Micro',\n",
       " 'la.data.63.Combined': 'https://download.bls.gov/pub/time.series/la/la.data.63.Combined',\n",
       " 'la.data.64.County': 'https://download.bls.gov/pub/time.series/la/la.data.64.County',\n",
       " 'la.data.65.City': 'https://download.bls.gov/pub/time.series/la/la.data.65.City',\n",
       " 'la.data.7.Alabama': 'https://download.bls.gov/pub/time.series/la/la.data.7.Alabama',\n",
       " 'la.data.8.Alaska': 'https://download.bls.gov/pub/time.series/la/la.data.8.Alaska',\n",
       " 'la.data.9.Arizona': 'https://download.bls.gov/pub/time.series/la/la.data.9.Arizona',\n",
       " 'la.footnote': 'https://download.bls.gov/pub/time.series/la/la.footnote',\n",
       " 'la.map_info': 'https://download.bls.gov/pub/time.series/la/la.map_info',\n",
       " 'la.measure': 'https://download.bls.gov/pub/time.series/la/la.measure',\n",
       " 'la.period': 'https://download.bls.gov/pub/time.series/la/la.period',\n",
       " 'la.seasonal': 'https://download.bls.gov/pub/time.series/la/la.seasonal',\n",
       " 'la.series': 'https://download.bls.gov/pub/time.series/la/la.series',\n",
       " 'la.state_region_division': 'https://download.bls.gov/pub/time.series/la/la.state_region_division',\n",
       " 'la.txt': 'https://download.bls.gov/pub/time.series/la/la.txt',\n",
       " 'maps': 'https://download.bls.gov/pub/time.series/la/maps/'}"
      ]
     },
     "execution_count": 57,
     "metadata": {},
     "output_type": "execute_result"
    }
   ],
   "source": [
    "link_url_dict = {region_link_name: base_url + anchor.attrs['href']\\\n",
    "                 for (region_link_name, anchor) in link_dict.items()}\n",
    "link_url_dict"
   ]
  },
  {
   "cell_type": "code",
   "execution_count": 84,
   "metadata": {
    "scrolled": false
   },
   "outputs": [
    {
     "name": "stdout",
     "output_type": "stream",
     "text": [
      "Arkansas is done\n",
      "California is done\n",
      "Colorado is done\n",
      "Connecticut is done\n",
      "Delaware is done\n",
      "DC is done\n",
      "Florida is done\n",
      "Georgia is done\n",
      "Hawaii is done\n",
      "Idaho is done\n",
      "Illinois is done\n",
      "Indiana is done\n",
      "Iowa is done\n",
      "Kansas is done\n",
      "Kentucky is done\n"
     ]
    },
    {
     "name": "stderr",
     "output_type": "stream",
     "text": [
      "/usr/local/anaconda3/envs/PythonData/lib/python3.6/site-packages/IPython/core/interactiveshell.py:2785: DtypeWarning: Columns (3) have mixed types. Specify dtype option on import or set low_memory=False.\n",
      "  interactivity=interactivity, compiler=compiler, result=result)\n"
     ]
    },
    {
     "name": "stdout",
     "output_type": "stream",
     "text": [
      "Louisiana is done\n",
      "Maine is done\n",
      "Maryland is done\n",
      "Massachusetts is done\n",
      "Michigan is done\n",
      "Minnesota is done\n",
      "Mississippi is done\n",
      "Missouri is done\n",
      "Montana is done\n",
      "Nebraska is done\n",
      "Nevada is done\n",
      "NewHampshire is done\n",
      "NewJersey is done\n",
      "NewMexico is done\n",
      "NewYork is done\n",
      "NorthCarolina is done\n",
      "NorthDakota is done\n",
      "Ohio is done\n",
      "Oklahoma is done\n",
      "Oregon is done\n",
      "Pennsylvania is done\n",
      "PuertoRico is done\n",
      "RhodeIsland is done\n",
      "SouthCarolina is done\n",
      "SouthDakota is done\n",
      "Tennessee is done\n",
      "Texas is done\n",
      "Utah is done\n",
      "Vermont is done\n",
      "Virginia is done\n",
      "Washington is done\n",
      "WestVirginia is done\n",
      "Wisconsin is done\n",
      "Wyoming is done\n",
      "Alabama is done\n",
      "Alaska is done\n",
      "Arizona is done\n"
     ]
    }
   ],
   "source": [
    "all_unemployment_regions_df = pd.DataFrame()\n",
    "for region_link_name in region_link_names:\n",
    "    region = region_link_name.split('.')[3]\n",
    "    region_url = link_url_dict[region_link_name]\n",
    "    \n",
    "    region_df = pd.read_csv(region_url, sep='\\t')\n",
    "    first_region_series_id = region_df['series_id'][0]\n",
    "    region_df = region_df[region_df['series_id'] == first_region_series_id]\n",
    "    region_series = pd.Series([region] * len(region_df))\n",
    "    region_df['region'] = region_series\n",
    "    all_unemployment_regions_df = all_unemployment_regions_df.append(region_df)\n",
    "    print(f\"{region} is done\")\n",
    "    time.sleep(1)"
   ]
  },
  {
   "cell_type": "code",
   "execution_count": 89,
   "metadata": {},
   "outputs": [],
   "source": [
    "all_unemployment_regions_df.to_csv('unemployment.csv')"
   ]
  },
  {
   "cell_type": "code",
   "execution_count": null,
   "metadata": {},
   "outputs": [],
   "source": []
  }
 ],
 "metadata": {
  "kernelspec": {
   "display_name": "Python (PythonData)",
   "language": "python",
   "name": "pythondata"
  },
  "language_info": {
   "codemirror_mode": {
    "name": "ipython",
    "version": 3
   },
   "file_extension": ".py",
   "mimetype": "text/x-python",
   "name": "python",
   "nbconvert_exporter": "python",
   "pygments_lexer": "ipython3",
   "version": "3.6.8"
  }
 },
 "nbformat": 4,
 "nbformat_minor": 2
}
